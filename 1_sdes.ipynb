{
  "nbformat": 4,
  "nbformat_minor": 0,
  "metadata": {
    "colab": {
      "name": "1_sdes.ipynb",
      "provenance": [],
      "collapsed_sections": [],
      "authorship_tag": "ABX9TyMTsVuN+TKtLJBljdGfdePU",
      "include_colab_link": true
    },
    "kernelspec": {
      "name": "python3",
      "display_name": "Python 3"
    },
    "language_info": {
      "name": "python"
    }
  },
  "cells": [
    {
      "cell_type": "markdown",
      "metadata": {
        "id": "view-in-github",
        "colab_type": "text"
      },
      "source": [
        "<a href=\"https://colab.research.google.com/github/sshrutii/LP3/blob/main/1_sdes.ipynb\" target=\"_parent\"><img src=\"https://colab.research.google.com/assets/colab-badge.svg\" alt=\"Open In Colab\"/></a>"
      ]
    },
    {
      "cell_type": "code",
      "execution_count": null,
      "metadata": {
        "id": "fvmJvsmwEr3Y"
      },
      "outputs": [],
      "source": [
        "permutation_8 = [ 6, 3, 7, 4, 8, 5, 10, 9 ]\n",
        "\n",
        "permutation_10 = [ 3, 5, 2, 7, 4, 10, 1, 9, 8, 6 ]\n",
        "\n",
        "permutation_ip = [ 2, 6, 3, 1, 4, 8, 5, 7 ]\n",
        "\n",
        "expansion = [ 4, 1, 2, 3, 2, 3, 4, 1 ]\n",
        "\n",
        "permutation_s0 = [\n",
        "    ['01', '00', '11', '10'], \n",
        "    ['11', '10', '01', '00'], \n",
        "    ['00', '10', '01', '11'], \n",
        "    ['11', '01', '11', '10']\n",
        "]\n",
        "\n",
        "permutation_s1 = [\n",
        "    ['00', '01', '10', '11'], \n",
        "    ['10', '00', '01', '11'], \n",
        "    ['11', '00', '01', '00'], \n",
        "    ['10', '01', '00', '11']\n",
        "]\n",
        "\n",
        "permutation_4 = [ 2, 4, 3, 1 ]\n",
        "\n",
        "permutation_ip_rev = [ 4, 1, 3, 5, 7, 2, 8, 6 ]\n"
      ]
    },
    {
      "cell_type": "code",
      "source": [
        "def permutation(text, permutation):\n",
        "    new_text = ''\n",
        "    for i in range(len(permutation)):\n",
        "        new_text += text[permutation[i] - 1]\n",
        "    return new_text\n",
        "\n",
        "\n",
        "def shift(key, bit):\n",
        "    new_key = ''\n",
        "    for i in range(len(key)):\n",
        "        new_key += key[(i + bit) % len(key)]\n",
        "    return new_key\n",
        "\n",
        "\n",
        "def xor(digit1, digit2):\n",
        "    new_digit = ''\n",
        "    for i in range(len(digit1)):\n",
        "        new_digit += str((int(digit1[i]) + int(digit2[i])) % 2)\n",
        "        # new_digit += str(int(digit1[i]) ^ int(digit2[i]))\n",
        "    return new_digit\n",
        "\n",
        "\n",
        "def bin_to_dec(digit):\n",
        "    new_digit = 0\n",
        "    for i in range(len(digit)):\n",
        "        new_digit += int(digit[i]) * (2 ** (len(digit) - i - 1))\n",
        "    return new_digit\n",
        "\n",
        "\n",
        "def s0(text):\n",
        "    x = bin_to_dec(text[0] + text[3])\n",
        "    y = bin_to_dec(text[1] + text[2])\n",
        "    return permutation_s0[x][y]\n",
        "\n",
        "\n",
        "def s1(text):\n",
        "    x = bin_to_dec(text[0] + text[3]) #row\n",
        "    y = bin_to_dec(text[1] + text[2]) #clmn\n",
        "    return permutation_s1[x][y]\n",
        "\n",
        "\n",
        "def functionf(text, key):\n",
        "    text = permutation(text, expansion)\n",
        "    text = xor(text, key)\n",
        "    text = s0(text[:4]) + s1(text[4:])\n",
        "    text = permutation(text, permutation_4)\n",
        "    return text\n"
      ],
      "metadata": {
        "id": "-9pmZw7XF6pZ"
      },
      "execution_count": null,
      "outputs": []
    },
    {
      "cell_type": "code",
      "source": [
        "# key generation\n",
        "key_in = input('10 bit key: ')\n",
        "key_in = permutation(key_in, permutation_10)\n",
        "key_out_1 = permutation(shift(key_in[:5], 1) + shift(key_in[5:], 1), permutation_8)\n",
        "key_out_2 = permutation(shift(key_in[:5], 3) + shift(key_in[5:], 3), permutation_8)"
      ],
      "metadata": {
        "colab": {
          "base_uri": "https://localhost:8080/"
        },
        "id": "fhDjZ9EBGQLt",
        "outputId": "65f5edf0-91db-45c3-b6c6-ffd1ce6b1f3c"
      },
      "execution_count": null,
      "outputs": [
        {
          "name": "stdout",
          "output_type": "stream",
          "text": [
            "10 bit key: 1010000010\n"
          ]
        }
      ]
    },
    {
      "cell_type": "code",
      "source": [
        "# encrypt\n",
        "text = input('8 bit text: ')\n",
        "text_in = permutation(text, permutation_ip)\n",
        "sub_text_l, sub_text_r = text_in[:4], text_in[4:]\n",
        "temp = functionf(sub_text_r, key_out_1)\n",
        "sub_text_l = xor(sub_text_l, temp)\n",
        "temp = functionf(sub_text_l, key_out_2)\n",
        "sub_text_r = xor(sub_text_r, temp)\n",
        "text_out = permutation(sub_text_r + sub_text_l, permutation_ip_rev)\n",
        "print('encryption result: ', text_out)\n",
        "\n",
        "#decrypt\n",
        "text_in = permutation(text, permutation_ip)\n",
        "sub_text_l, sub_text_r = text_in[:4], text_in[4:]\n",
        "temp = functionf(sub_text_r, key_out_2)\n",
        "sub_text_l = xor(sub_text_l, temp)\n",
        "temp = functionf(sub_text_l, key_out_1)\n",
        "sub_text_r = xor(sub_text_r, temp)\n",
        "text_out = permutation(sub_text_r + sub_text_l, permutation_ip_rev)\n",
        "print('decryption result', text_out)"
      ],
      "metadata": {
        "colab": {
          "base_uri": "https://localhost:8080/"
        },
        "id": "kayeiwTfGGPC",
        "outputId": "f8b07906-f318-48bb-fdb1-66c7fdca3efa"
      },
      "execution_count": null,
      "outputs": [
        {
          "output_type": "stream",
          "name": "stdout",
          "text": [
            "8 bit text: 01110010\n",
            "encryption result:  01110111\n",
            "decryption result 01111000\n"
          ]
        }
      ]
    },
    {
      "cell_type": "code",
      "source": [
        ""
      ],
      "metadata": {
        "id": "4oL-_cuxGZau"
      },
      "execution_count": null,
      "outputs": []
    }
  ]
}