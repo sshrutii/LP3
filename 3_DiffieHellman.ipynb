{
  "nbformat": 4,
  "nbformat_minor": 0,
  "metadata": {
    "colab": {
      "name": "3_DiffieHellman.ipynb",
      "provenance": [],
      "authorship_tag": "ABX9TyNTGk7RGxz2lc9ll+t1KER8",
      "include_colab_link": true
    },
    "kernelspec": {
      "name": "python3",
      "display_name": "Python 3"
    },
    "language_info": {
      "name": "python"
    }
  },
  "cells": [
    {
      "cell_type": "markdown",
      "metadata": {
        "id": "view-in-github",
        "colab_type": "text"
      },
      "source": [
        "<a href=\"https://colab.research.google.com/github/sshrutii/LP3/blob/main/3_DiffieHellman.ipynb\" target=\"_parent\"><img src=\"https://colab.research.google.com/assets/colab-badge.svg\" alt=\"Open In Colab\"/></a>"
      ]
    },
    {
      "cell_type": "code",
      "source": [
        "n = 11         \n",
        "g = 7           \t\n",
        "print('The Value of n is :%d'%(n))\n",
        "print('The Value of g is :%d'%(g))"
      ],
      "metadata": {
        "colab": {
          "base_uri": "https://localhost:8080/"
        },
        "id": "I3Mz_bYJRq07",
        "outputId": "b2009377-60b0-4986-c612-6d94f35f7382"
      },
      "execution_count": null,
      "outputs": [
        {
          "output_type": "stream",
          "name": "stdout",
          "text": [
            "The Value of n is :11\n",
            "The Value of g is :7\n"
          ]
        }
      ]
    },
    {
      "cell_type": "code",
      "source": [
        "# Alice will choose the private key a\n",
        "a = 3            \n",
        "print('The Private Key a for Alice is :%d'%(a))\n",
        "\n",
        "# Bob will choose the private key b\n",
        "b = 5            \n",
        "print('The Private Key b for Bob is :%d'%(b))"
      ],
      "metadata": {
        "colab": {
          "base_uri": "https://localhost:8080/"
        },
        "id": "q9-hCh92RzWj",
        "outputId": "4e02e5a4-54c8-4c18-9d73-d9a214a65f03"
      },
      "execution_count": null,
      "outputs": [
        {
          "output_type": "stream",
          "name": "stdout",
          "text": [
            "The Private Key a for Alice is :3\n",
            "The Private Key b for Bob is :5\n"
          ]
        }
      ]
    },
    {
      "cell_type": "code",
      "source": [
        "# gets the generated key\n",
        "A = int(pow(g,a,n))                    "
      ],
      "metadata": {
        "id": "Q6XldYGKSMhr"
      },
      "execution_count": null,
      "outputs": []
    },
    {
      "cell_type": "code",
      "source": [
        "# gets the generated key\n",
        "B = int(pow(g,b,n))"
      ],
      "metadata": {
        "id": "mzARDZziSScQ"
      },
      "execution_count": null,
      "outputs": []
    },
    {
      "cell_type": "code",
      "source": [
        "# Secret key for Alice\n",
        "ka = int(pow(B,a,n))\n",
        "\n",
        "# Secret key for Bob\n",
        "kb = int(pow(A,b,n))\n",
        "\n",
        "print('Secret key for the Alice is : %d'%(ka))\n",
        "print('Secret Key for the Bob is : %d'%(kb))"
      ],
      "metadata": {
        "colab": {
          "base_uri": "https://localhost:8080/"
        },
        "id": "2uS2jm1iSh_0",
        "outputId": "aee1b7e0-d9b0-4a50-8bbc-101b51c8e27e"
      },
      "execution_count": null,
      "outputs": [
        {
          "output_type": "stream",
          "name": "stdout",
          "text": [
            "Secret key for the Alice is : 10\n",
            "Secret Key for the Bob is : 10\n"
          ]
        }
      ]
    },
    {
      "cell_type": "code",
      "source": [
        ""
      ],
      "metadata": {
        "id": "qoJQxNtJSsyv"
      },
      "execution_count": null,
      "outputs": []
    }
  ]
}