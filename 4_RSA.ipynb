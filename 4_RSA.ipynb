{
  "nbformat": 4,
  "nbformat_minor": 0,
  "metadata": {
    "colab": {
      "name": "4_RSA.ipynb",
      "provenance": [],
      "authorship_tag": "ABX9TyNOGxKwV65mNm0tEmnDPxmx",
      "include_colab_link": true
    },
    "kernelspec": {
      "name": "python3",
      "display_name": "Python 3"
    },
    "language_info": {
      "name": "python"
    }
  },
  "cells": [
    {
      "cell_type": "markdown",
      "metadata": {
        "id": "view-in-github",
        "colab_type": "text"
      },
      "source": [
        "<a href=\"https://colab.research.google.com/github/sshrutii/LP3/blob/main/4_RSA.ipynb\" target=\"_parent\"><img src=\"https://colab.research.google.com/assets/colab-badge.svg\" alt=\"Open In Colab\"/></a>"
      ]
    },
    {
      "cell_type": "code",
      "execution_count": 3,
      "metadata": {
        "colab": {
          "base_uri": "https://localhost:8080/"
        },
        "id": "POFCYzwbWJ5y",
        "outputId": "f9ee220c-9d6f-48b8-b99f-6a84a1c3f300"
      },
      "outputs": [
        {
          "output_type": "stream",
          "name": "stdout",
          "text": [
            "Enter prime p: 23\n",
            "Enter prime q: 17\n",
            "Choosen primes:\n",
            "p=23, q=17\n",
            "\n",
            "n = p * q = 391\n",
            "\n",
            "Euler's function (totient) [phi(n)]: 352\n",
            "\n",
            "Choose an e from a below coprimes array:\n",
            "\n",
            "[3, 5, 7, 9, 13, 15, 17, 19, 21, 23, 25, 27, 29, 31, 35, 37, 39, 41, 43, 45, 47, 49, 51, 53, 57, 59, 61, 63, 67, 69, 71, 73, 75, 79, 81, 83, 85, 87, 89, 91, 93, 95, 97, 101, 103, 105, 107, 109, 113, 115, 117, 119, 123, 125, 127, 129, 131, 133, 135, 137, 139, 141, 145, 147, 149, 151, 153, 155, 157, 159, 161, 163, 167, 169, 171, 173, 177, 179, 181, 183, 185, 189, 191, 193, 195, 197, 199, 201, 203, 205, 207, 211, 213, 215, 217, 219, 221, 223, 225, 227, 229, 233, 235, 237, 239, 243, 245, 247, 249, 251, 255, 257, 259, 261, 263, 265, 267, 269, 271, 273, 277, 279, 281, 283, 285, 289, 291, 293, 295, 299, 301, 303, 305, 307, 309, 311, 313, 315, 317, 321, 323, 325, 327, 329, 331, 333, 335, 337, 339, 343, 345, 347, 349]\n",
            "\n",
            "5\n",
            "\n",
            "Your public key is a pair of numbers (e=5, n=391).\n",
            "\n",
            "Your private key is a pair of numbers (d=141, n=391).\n",
            "\n",
            "Enter a message to encrypt: Shruti\n",
            "\n",
            "Plain message: Shruti\n",
            "\n",
            "Encrypted message:  ģÊēĴűI \n",
            "\n",
            "Decrypted message: Shruti\n",
            "\n"
          ]
        }
      ],
      "source": [
        "def gcd(a, b): # calculates GCD of a and d\n",
        "    while b != 0:\n",
        "        c = a % b\n",
        "        a = b\n",
        "        b = c\n",
        "    return a\n",
        "\n",
        "\n",
        "def modinv(a, m): # calculates modulo inverse of a for mod m\n",
        "    for x in range(1, m):\n",
        "        if (a * x) % m == 1:\n",
        "            return x\n",
        "    return None\n",
        "\n",
        "\n",
        "def coprimes(a): # calculates all possible co-prime numbers with a\n",
        "    l = []\n",
        "    for x in range(2, a):\n",
        "        if gcd(a, x) == 1 and modinv(x, phi) != None:\n",
        "            l.append(x)\n",
        "    for x in l:\n",
        "        if x == modinv(x, phi):\n",
        "            l.remove(x)\n",
        "    return l\n",
        "\n",
        "def encrypt_block(m): # encrypts a single block\n",
        "    c = m ** e % n\n",
        "    return c\n",
        "\n",
        "\n",
        "def decrypt_block(c): # decrypts a single block\n",
        "    m = c ** d % n\n",
        "    return m\n",
        "\n",
        "\n",
        "def encrypt_string(s): # applies encryption\n",
        "    return ''.join([chr(encrypt_block(ord(x))) for x in list(s)])\n",
        "\n",
        "\n",
        "def decrypt_string(s): # applies decryption\n",
        "    return ''.join([chr(decrypt_block(ord(x))) for x in list(s)])\n",
        "\n",
        "if __name__ == \"__main__\":\n",
        "    p = int(input('Enter prime p: '))\n",
        "    q = int(input('Enter prime q: '))\n",
        "\n",
        "    print(\"Choosen primes:\\np=\" + str(p) + \", q=\" + str(q) + \"\\n\")\n",
        "\n",
        "    n = p * q\n",
        "    print(\"n = p * q = \" + str(n) + \"\\n\")\n",
        "\n",
        "    phi = (p - 1) * (q - 1)\n",
        "    print(\"Euler's function (totient) [phi(n)]: \" + str(phi) + \"\\n\")\n",
        "\n",
        "    print(\"Choose an e from a below coprimes array:\\n\")\n",
        "    print(str(coprimes(phi)) + \"\\n\")\n",
        "    e = int(input())\n",
        "\n",
        "    d = modinv(e, phi) # calculates the decryption key d\n",
        "\n",
        "    print(\"\\nYour public key is a pair of numbers (e=\" + str(e) + \", n=\" + str(n) + \").\\n\")\n",
        "    print(\"Your private key is a pair of numbers (d=\" + str(d) + \", n=\" + str(n) + \").\\n\")\n",
        "\n",
        "    s = input(\"Enter a message to encrypt: \")\n",
        "    print(\"\\nPlain message: \" + s + \"\\n\")\n",
        "    enc = encrypt_string(s)\n",
        "    print(\"Encrypted message: \", enc, \"\\n\")\n",
        "    dec = decrypt_string(enc)\n",
        "    print(\"Decrypted message: \" + dec + \"\\n\")"
      ]
    },
    {
      "cell_type": "code",
      "source": [
        ""
      ],
      "metadata": {
        "id": "UHzploGyWVWn"
      },
      "execution_count": null,
      "outputs": []
    }
  ]
}