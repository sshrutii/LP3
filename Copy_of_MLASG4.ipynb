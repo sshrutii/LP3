{
  "nbformat": 4,
  "nbformat_minor": 0,
  "metadata": {
    "colab": {
      "name": "Copy of MLASG4.ipynb",
      "provenance": [],
      "collapsed_sections": [],
      "include_colab_link": true
    },
    "kernelspec": {
      "name": "python3",
      "display_name": "Python 3"
    },
    "language_info": {
      "name": "python"
    }
  },
  "cells": [
    {
      "cell_type": "markdown",
      "metadata": {
        "id": "view-in-github",
        "colab_type": "text"
      },
      "source": [
        "<a href=\"https://colab.research.google.com/github/sshrutii/LP3/blob/main/Copy_of_MLASG4.ipynb\" target=\"_parent\"><img src=\"https://colab.research.google.com/assets/colab-badge.svg\" alt=\"Open In Colab\"/></a>"
      ]
    },
    {
      "cell_type": "code",
      "execution_count": null,
      "metadata": {
        "colab": {
          "base_uri": "https://localhost:8080/",
          "height": 1000
        },
        "id": "qnUzA7hpGrRY",
        "outputId": "e5575d9f-6151-4a6c-f4af-a59ed16ec982"
      },
      "outputs": [
        {
          "output_type": "stream",
          "name": "stdout",
          "text": [
            "[[0.1  0.6 ]\n",
            " [0.15 0.71]\n",
            " [0.08 0.9 ]\n",
            " [0.16 0.85]\n",
            " [0.2  0.3 ]\n",
            " [0.25 0.5 ]\n",
            " [0.24 0.1 ]\n",
            " [0.3  0.2 ]]\n"
          ]
        },
        {
          "output_type": "display_data",
          "data": {
            "text/plain": [
              "<Figure size 432x288 with 1 Axes>"
            ],
            "image/png": "[encoded data removed]"
          },
          "metadata": {
            "needs_background": "light"
          }
        },
        {
          "output_type": "display_data",
          "data": {
            "text/plain": [
              "<Figure size 432x288 with 1 Axes>"
            ],
            "image/png": "[encoded data removed]"
          },
          "metadata": {
            "needs_background": "light"
          }
        },
        {
          "output_type": "stream",
          "name": "stdout",
          "text": [
            "[[0.1 0.3]\n",
            " [0.6 0.2]]\n"
          ]
        },
        {
          "output_type": "display_data",
          "data": {
            "text/plain": [
              "<Figure size 432x288 with 1 Axes>"
            ],
            "image/png": "[encoded data removed]"
          },
          "metadata": {
            "needs_background": "light"
          }
        },
        {
          "output_type": "stream",
          "name": "stdout",
          "text": [
            "[1 1 1 1 0 0 0 0]\n",
            "No of population around cluster 2: 3\n",
            "Previous value of m1 and m2 is:\n",
            "M1== [0.1 0.3]\n",
            "M1== [0.6 0.2]\n",
            "updated value of m1 and m2 is:\n",
            "M1== [0.2475 0.275 ]\n",
            "M1== [0.1225 0.765 ]\n"
          ]
        }
      ],
      "source": [
        "#import packages\n",
        "import numpy as np\n",
        "import matplotlib.pyplot as plt\n",
        "import pandas as pd\n",
        "\n",
        "#create dataset using DataFrame\n",
        "df=pd.DataFrame({'X':[0.1,0.15,0.08,0.16,0.2,0.25,0.24,0.3],\n",
        "                 'y':[0.6,0.71,0.9,0.85,0.3,0.5,0.1,0.2]})\n",
        "f1 = df['X'].values\n",
        "f2 = df['y'].values\n",
        "X = np.array(list(zip(f1, f2)))\n",
        "print(X)\n",
        "\n",
        "#centroid points\n",
        "C_x=np.array([0.1,0.3])\n",
        "C_y=np.array([0.6,0.2])\n",
        "centroids=C_x,C_y\n",
        "\n",
        "#plot the given points\n",
        "colmap = {1: 'r', 2: 'b'}\n",
        "plt.scatter(f1, f2, color='k')\n",
        "plt.show()\n",
        "\n",
        "#for i in centroids():\n",
        "plt.scatter(C_x[0],C_y[0], color=colmap[1])\n",
        "plt.scatter(C_x[1],C_y[1], color=colmap[2])\n",
        "plt.show()\n",
        "\n",
        "C = np.array(list((C_x, C_y)), dtype=np.float32)\n",
        "print (C)\n",
        "\n",
        "#plot given elements with centroid elements\n",
        "plt.scatter(f1, f2, c='#050505')\n",
        "plt.scatter(C_x[0], C_y[0], marker='*', s=200, c='r')\n",
        "plt.scatter(C_x[1], C_y[1], marker='*', s=200, c='b')\n",
        "plt.show()\n",
        "\n",
        "\n",
        "#import KMeans class and create object of it\n",
        "from sklearn.cluster import KMeans\n",
        "model=KMeans(n_clusters=2,random_state=0)\n",
        "model.fit(X)\n",
        "labels=model.labels_\n",
        "print(labels)\n",
        "\n",
        "#using labels find population around centroid\n",
        "count=0\n",
        "for i in range(len(labels)):\n",
        "    if (labels[i]==1):\n",
        "        count=count+1\n",
        "\n",
        "print('No of population around cluster 2:',count-1)\n",
        "\t\n",
        "#Find new centroids\n",
        "new_centroids = model.cluster_centers_\n",
        "\n",
        "print('Previous value of m1 and m2 is:')\n",
        "print('M1==',centroids[0])\n",
        "print('M1==',centroids[1])\n",
        "\n",
        "print('updated value of m1 and m2 is:')\n",
        "print('M1==',new_centroids[0])\n",
        "print('M1==',new_centroids[1])"
      ]
    }
  ]
}