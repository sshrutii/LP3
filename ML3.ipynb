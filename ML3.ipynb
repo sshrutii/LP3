{
  "nbformat": 4,
  "nbformat_minor": 0,
  "metadata": {
    "colab": {
      "name": "ML3.ipynb",
      "provenance": [],
      "authorship_tag": "ABX9TyPDTxqRzHmLlu8gYnfrVFJk",
      "include_colab_link": true
    },
    "kernelspec": {
      "name": "python3",
      "display_name": "Python 3"
    },
    "language_info": {
      "name": "python"
    }
  },
  "cells": [
    {
      "cell_type": "markdown",
      "metadata": {
        "id": "view-in-github",
        "colab_type": "text"
      },
      "source": [
        "<a href=\"https://colab.research.google.com/github/sshrutii/LP3/blob/main/ML3.ipynb\" target=\"_parent\"><img src=\"https://colab.research.google.com/assets/colab-badge.svg\" alt=\"Open In Colab\"/></a>"
      ]
    },
    {
      "cell_type": "code",
      "execution_count": 1,
      "metadata": {
        "colab": {
          "base_uri": "https://localhost:8080/"
        },
        "id": "SoPrdUOWrvaE",
        "outputId": "344e7677-c36b-4058-a47c-d0168803e054"
      },
      "outputs": [
        {
          "output_type": "stream",
          "name": "stdout",
          "text": [
            "General KNN :  ['negative']\n"
          ]
        }
      ],
      "source": [
        "import numpy as np\n",
        "import pandas as pd\n",
        "X=np.array([[2,4],[4,2],[4,4],[4,6],[6,2],[6,4]]) #assigning points given in question to a 2-D array\n",
        "y=np.array(['negative','negative','positive','negative','positive','negative']) \n",
        "# import KNeighborsClassifier and create object of it\n",
        "from sklearn.neighbors import KNeighborsClassifier\n",
        "classifier=KNeighborsClassifier(n_neighbors=3)\n",
        "classifier.fit(X,y)\n",
        "# Predict class for points (6,6)\n",
        "X_test=np.array([6,6])\n",
        "y_pred=classifier.predict([X_test])\n",
        "print(\"General KNN : \",y_pred)"
      ]
    },
    {
      "cell_type": "code",
      "source": [
        "classifier=KNeighborsClassifier(n_neighbors=3, weights='distance')\n",
        "classifier.fit(X,y)\n",
        "# predict class for points (6,6)\n",
        "X_test=np.array([6,6])\n",
        "y_pred=classifier.predict([X_test])\n",
        "print(\"Distance Weighted KNN : \",y_pred)"
      ],
      "metadata": {
        "colab": {
          "base_uri": "https://localhost:8080/"
        },
        "id": "XF16laBNsB7z",
        "outputId": "c4a83a8a-cf2d-4914-c67b-d7fad6b4c993"
      },
      "execution_count": 2,
      "outputs": [
        {
          "output_type": "stream",
          "name": "stdout",
          "text": [
            "Distance Weighted KNN :  ['negative']\n"
          ]
        }
      ]
    },
    {
      "cell_type": "code",
      "source": [
        ""
      ],
      "metadata": {
        "id": "U6AGsq9lsF4e"
      },
      "execution_count": null,
      "outputs": []
    }
  ]
}