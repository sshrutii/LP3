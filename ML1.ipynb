{
  "nbformat": 4,
  "nbformat_minor": 0,
  "metadata": {
    "colab": {
      "name": "ML1.ipynb",
      "provenance": [],
      "authorship_tag": "ABX9TyP2sAm56KCzyvelqrFU9j8Y",
      "include_colab_link": true
    },
    "kernelspec": {
      "name": "python3",
      "display_name": "Python 3"
    },
    "language_info": {
      "name": "python"
    }
  },
  "cells": [
    {
      "cell_type": "markdown",
      "metadata": {
        "id": "view-in-github",
        "colab_type": "text"
      },
      "source": [
        "<a href=\"https://colab.research.google.com/github/sshrutii/LP3/blob/main/ML1.ipynb\" target=\"_parent\"><img src=\"https://colab.research.google.com/assets/colab-badge.svg\" alt=\"Open In Colab\"/></a>"
      ]
    },
    {
      "cell_type": "code",
      "source": [
        "import numpy as np\n",
        "import matplotlib.pyplot as plt\n",
        "import pandas as pd\n",
        "from sklearn.linear_model import LinearRegression\n"
      ],
      "metadata": {
        "id": "FSMWHcI0V0RF"
      },
      "execution_count": 4,
      "outputs": []
    },
    {
      "cell_type": "code",
      "source": [
        "from google.colab import drive\n",
        "drive.mount('/content/drive')"
      ],
      "metadata": {
        "colab": {
          "base_uri": "https://localhost:8080/"
        },
        "id": "fEt5GRsiDzDS",
        "outputId": "001cb849-f4c1-43f0-cd3c-9cebbc762ae4"
      },
      "execution_count": 6,
      "outputs": [
        {
          "output_type": "stream",
          "name": "stdout",
          "text": [
            "Mounted at /content/drive\n"
          ]
        }
      ]
    },
    {
      "cell_type": "code",
      "source": [
        "data=pd.read_csv('/content/drive/MyDrive/hours.csv')\n"
      ],
      "metadata": {
        "id": "M9EFPA_910B8"
      },
      "execution_count": 8,
      "outputs": []
    },
    {
      "cell_type": "code",
      "source": [
        "print(data)\n",
        "\n",
        "x=data.iloc[:,:-1]\n",
        "y=data.iloc[:,1]\n",
        "\n",
        "r = LinearRegression()\n",
        "\n",
        "fit = r.fit(x,y)\n",
        "print(\"Fit =\",fit)\n",
        "\n",
        "score=r.score(x,y)\n",
        "print(\"Score =\",score)\n",
        "\n",
        "intercept=r.intercept_\n",
        "print(\"Intercept =\",intercept)\n",
        "\n",
        "graph=plt.scatter(x,y,color='red')\n",
        "plt.plot(x,r.predict(x),color='blue')\n",
        "plt.show()"
      ],
      "metadata": {
        "colab": {
          "base_uri": "https://localhost:8080/",
          "height": 473
        },
        "id": "5Za0fP4-ihbv",
        "outputId": "db84eeba-489e-4eee-b90c-7834b0b950f7"
      },
      "execution_count": 13,
      "outputs": [
        {
          "output_type": "stream",
          "name": "stdout",
          "text": [
            "   Number of hours spent driving (x)  Risk score on a scale of 0-100 (y)\n",
            "0                                 10                                  95\n",
            "1                                  9                                  80\n",
            "2                                  2                                  10\n",
            "3                                 15                                  50\n",
            "4                                 10                                  45\n",
            "5                                 16                                  98\n",
            "6                                 11                                  38\n",
            "7                                 16                                  93\n",
            "Fit = LinearRegression()\n",
            "Score = 0.43709481451010035\n",
            "Intercept = 12.584627964022907\n"
          ]
        },
        {
          "output_type": "display_data",
          "data": {
            "text/plain": [
              "<Figure size 432x288 with 1 Axes>"
            ],
            "image/png": "[encoded data removed]"
          },
          "metadata": {
            "needs_background": "light"
          }
        }
      ]
    },
    {
      "cell_type": "code",
      "execution_count": 10,
      "metadata": {
        "id": "u93d5OWhzX8v",
        "colab": {
          "base_uri": "https://localhost:8080/"
        },
        "outputId": "05d46501-9236-4f17-bb58-a55df9de1c24"
      },
      "outputs": [
        {
          "output_type": "stream",
          "name": "stdout",
          "text": [
            "[49.28781684]\n"
          ]
        },
        {
          "output_type": "stream",
          "name": "stderr",
          "text": [
            "/usr/local/lib/python3.7/dist-packages/sklearn/base.py:451: UserWarning: X does not have valid feature names, but LinearRegression was fitted with feature names\n",
            "  \"X does not have valid feature names, but\"\n"
          ]
        }
      ],
      "source": [
        "y_pred = r.predict([[8]])\n",
        "print(y_pred)"
      ]
    },
    {
      "cell_type": "code",
      "source": [
        "eq = r.coef_ * 8 + r.intercept_\n",
        "eq"
      ],
      "metadata": {
        "colab": {
          "base_uri": "https://localhost:8080/"
        },
        "id": "TYIZdY_V3RaE",
        "outputId": "5945a8b8-c1ec-400a-afbb-46a2a56b6404"
      },
      "execution_count": 15,
      "outputs": [
        {
          "output_type": "execute_result",
          "data": {
            "text/plain": [
              "array([49.28781684])"
            ]
          },
          "metadata": {},
          "execution_count": 15
        }
      ]
    },
    {
      "cell_type": "code",
      "source": [
        ""
      ],
      "metadata": {
        "id": "25eJwLyH4JWq"
      },
      "execution_count": null,
      "outputs": []
    }
  ]
}