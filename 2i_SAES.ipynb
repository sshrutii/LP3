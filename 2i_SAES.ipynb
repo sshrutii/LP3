{
  "nbformat": 4,
  "nbformat_minor": 0,
  "metadata": {
    "colab": {
      "name": "2i_SAES.ipynb",
      "provenance": [],
      "collapsed_sections": [],
      "authorship_tag": "ABX9TyOLHHswHCOhYY+h+Ay428AD",
      "include_colab_link": true
    },
    "kernelspec": {
      "name": "python3",
      "display_name": "Python 3"
    },
    "language_info": {
      "name": "python"
    }
  },
  "cells": [
    {
      "cell_type": "markdown",
      "metadata": {
        "id": "view-in-github",
        "colab_type": "text"
      },
      "source": [
        "<a href=\"https://colab.research.google.com/github/sshrutii/LP3/blob/main/2i_SAES.ipynb\" target=\"_parent\"><img src=\"https://colab.research.google.com/assets/colab-badge.svg\" alt=\"Open In Colab\"/></a>"
      ]
    },
    {
      "cell_type": "code",
      "source": [
        "!pip install pycrypto"
      ],
      "metadata": {
        "colab": {
          "base_uri": "https://localhost:8080/"
        },
        "id": "3uRlFUeXYjFe",
        "outputId": "717fd966-eaf8-4649-c330-3530a7f8c634"
      },
      "execution_count": 9,
      "outputs": [
        {
          "output_type": "stream",
          "name": "stdout",
          "text": [
            "Collecting pycrypto\n",
            "  Downloading pycrypto-2.6.1.tar.gz (446 kB)\n",
            "\u001b[?25l\r\u001b[K     |▊                               | 10 kB 22.1 MB/s eta 0:00:01\r\u001b[K     |█▌                              | 20 kB 16.6 MB/s eta 0:00:01\r\u001b[K     |██▏                             | 30 kB 11.2 MB/s eta 0:00:01\r\u001b[K     |███                             | 40 kB 9.7 MB/s eta 0:00:01\r\u001b[K     |███▊                            | 51 kB 4.5 MB/s eta 0:00:01\r\u001b[K     |████▍                           | 61 kB 5.3 MB/s eta 0:00:01\r\u001b[K     |█████▏                          | 71 kB 5.8 MB/s eta 0:00:01\r\u001b[K     |█████▉                          | 81 kB 6.0 MB/s eta 0:00:01\r\u001b[K     |██████▋                         | 92 kB 6.6 MB/s eta 0:00:01\r\u001b[K     |███████▍                        | 102 kB 5.1 MB/s eta 0:00:01\r\u001b[K     |████████                        | 112 kB 5.1 MB/s eta 0:00:01\r\u001b[K     |████████▉                       | 122 kB 5.1 MB/s eta 0:00:01\r\u001b[K     |█████████▌                      | 133 kB 5.1 MB/s eta 0:00:01\r\u001b[K     |██████████▎                     | 143 kB 5.1 MB/s eta 0:00:01\r\u001b[K     |███████████                     | 153 kB 5.1 MB/s eta 0:00:01\r\u001b[K     |███████████▊                    | 163 kB 5.1 MB/s eta 0:00:01\r\u001b[K     |████████████▌                   | 174 kB 5.1 MB/s eta 0:00:01\r\u001b[K     |█████████████▏                  | 184 kB 5.1 MB/s eta 0:00:01\r\u001b[K     |██████████████                  | 194 kB 5.1 MB/s eta 0:00:01\r\u001b[K     |██████████████▊                 | 204 kB 5.1 MB/s eta 0:00:01\r\u001b[K     |███████████████▍                | 215 kB 5.1 MB/s eta 0:00:01\r\u001b[K     |████████████████▏               | 225 kB 5.1 MB/s eta 0:00:01\r\u001b[K     |█████████████████               | 235 kB 5.1 MB/s eta 0:00:01\r\u001b[K     |█████████████████▋              | 245 kB 5.1 MB/s eta 0:00:01\r\u001b[K     |██████████████████▍             | 256 kB 5.1 MB/s eta 0:00:01\r\u001b[K     |███████████████████             | 266 kB 5.1 MB/s eta 0:00:01\r\u001b[K     |███████████████████▉            | 276 kB 5.1 MB/s eta 0:00:01\r\u001b[K     |████████████████████▋           | 286 kB 5.1 MB/s eta 0:00:01\r\u001b[K     |█████████████████████▎          | 296 kB 5.1 MB/s eta 0:00:01\r\u001b[K     |██████████████████████          | 307 kB 5.1 MB/s eta 0:00:01\r\u001b[K     |██████████████████████▊         | 317 kB 5.1 MB/s eta 0:00:01\r\u001b[K     |███████████████████████▌        | 327 kB 5.1 MB/s eta 0:00:01\r\u001b[K     |████████████████████████▎       | 337 kB 5.1 MB/s eta 0:00:01\r\u001b[K     |█████████████████████████       | 348 kB 5.1 MB/s eta 0:00:01\r\u001b[K     |█████████████████████████▊      | 358 kB 5.1 MB/s eta 0:00:01\r\u001b[K     |██████████████████████████▍     | 368 kB 5.1 MB/s eta 0:00:01\r\u001b[K     |███████████████████████████▏    | 378 kB 5.1 MB/s eta 0:00:01\r\u001b[K     |████████████████████████████    | 389 kB 5.1 MB/s eta 0:00:01\r\u001b[K     |████████████████████████████▋   | 399 kB 5.1 MB/s eta 0:00:01\r\u001b[K     |█████████████████████████████▍  | 409 kB 5.1 MB/s eta 0:00:01\r\u001b[K     |██████████████████████████████  | 419 kB 5.1 MB/s eta 0:00:01\r\u001b[K     |██████████████████████████████▉ | 430 kB 5.1 MB/s eta 0:00:01\r\u001b[K     |███████████████████████████████▋| 440 kB 5.1 MB/s eta 0:00:01\r\u001b[K     |████████████████████████████████| 446 kB 5.1 MB/s \n",
            "\u001b[?25hBuilding wheels for collected packages: pycrypto\n",
            "  Building wheel for pycrypto (setup.py) ... \u001b[?25l\u001b[?25hdone\n",
            "  Created wheel for pycrypto: filename=pycrypto-2.6.1-cp37-cp37m-linux_x86_64.whl size=499932 sha256=a8de2bbf2e79e0037d10c289f023d8ecb0c218ec0b340f90fc510d9206d13b69\n",
            "  Stored in directory: /root/.cache/pip/wheels/cf/85/ba/bbd7c96add459de7598fb424e5ff2309baf2095c844ac0f191\n",
            "Successfully built pycrypto\n",
            "Installing collected packages: pycrypto\n",
            "Successfully installed pycrypto-2.6.1\n"
          ]
        }
      ]
    },
    {
      "cell_type": "code",
      "execution_count": 10,
      "metadata": {
        "id": "TEWaB7GVXgcJ"
      },
      "outputs": [],
      "source": [
        "from Crypto.Cipher import AES"
      ]
    },
    {
      "cell_type": "code",
      "source": [
        "#key has to be either 16, 24 or 32 bytes\n",
        "def paddedKey(key):\n",
        "    while len(key) % 8 !=0:\n",
        "        key +=' '\n",
        "    return key\n",
        "    \n",
        "#text has to in multiples of 26 bytes\n",
        "def paddedText(text):\n",
        "    while len(text) % 16 != 0:\n",
        "        text += ' '\n",
        "    return text\n",
        "        \n",
        "plain_input = input(\"Enter the text to be encrypted: \")\n",
        "plain = paddedText(plain_input)\n",
        " \n",
        "key_input = input(\"Enter in a key between 16 and 32 characters: \")\n",
        "key = paddedKey(key_input)\n",
        " \n",
        "if(len(key_input)< 16 & len(key_input)> 32):\n",
        " print(\"key must be between 16 and 32 characters!\")\n",
        " \n",
        "cipher = AES.new(key)\n",
        "ciphertext = cipher.encrypt(plain)\n",
        "print(ciphertext)\n",
        " \n",
        "cleartext = cipher.decrypt(ciphertext)\n",
        "print(cleartext)"
      ],
      "metadata": {
        "colab": {
          "base_uri": "https://localhost:8080/"
        },
        "id": "eiHoof9oZWCY",
        "outputId": "6d3294d3-5bd4-4dd6-85e1-af3a3d3fe636"
      },
      "execution_count": 12,
      "outputs": [
        {
          "output_type": "stream",
          "name": "stdout",
          "text": [
            "Enter the text to be encrypted: ok\n",
            "Enter in a key between 16 and 32 characters: 1010011100111011\n",
            "b'\\x17\\xf0\\x97\\x03\\x1c\\x02\\x07\\xbfn[_\\xdb:\\x04\\xa3:'\n",
            "b'ok              '\n"
          ]
        }
      ]
    },
    {
      "cell_type": "code",
      "source": [
        ""
      ],
      "metadata": {
        "id": "zPa8or8wYpqp"
      },
      "execution_count": null,
      "outputs": []
    }
  ]
}